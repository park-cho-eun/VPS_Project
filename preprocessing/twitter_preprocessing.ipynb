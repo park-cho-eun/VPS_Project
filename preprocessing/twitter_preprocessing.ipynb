{
 "cells": [
  {
   "cell_type": "markdown",
   "id": "fd910ab8",
   "metadata": {},
   "source": [
    "# 필요 모듈 임포트"
   ]
  },
  {
   "cell_type": "code",
   "execution_count": 254,
   "id": "c4a26412",
   "metadata": {},
   "outputs": [],
   "source": [
    "import re\n",
    "import pandas as pd\n",
    "import numpy as np\n",
    "from konlpy.tag import Kkma\n",
    "import re\n",
    "import unicodedata\n",
    "import re\n",
    "import nltk\n",
    "from string import whitespace, punctuation\n",
    "from nltk.tokenize import sent_tokenize\n",
    "from hanspell import spell_checker\n",
    "from pykospacing import Spacing\n",
    "from tqdm import tqdm\n",
    "from kss import split_sentences\n",
    "import warnings\n",
    "\n",
    "tqdm.pandas()\n",
    "warnings.filterwarnings('ignore')"
   ]
  },
  {
   "cell_type": "code",
   "execution_count": 255,
   "id": "40005bad",
   "metadata": {},
   "outputs": [
    {
     "name": "stderr",
     "output_type": "stream",
     "text": [
      "[nltk_data] Downloading package punkt to\n",
      "[nltk_data]     /Users/parkjunhyeong/nltk_data...\n",
      "[nltk_data]   Package punkt is already up-to-date!\n"
     ]
    },
    {
     "data": {
      "text/plain": [
       "True"
      ]
     },
     "execution_count": 255,
     "metadata": {},
     "output_type": "execute_result"
    }
   ],
   "source": [
    "nltk.download('punkt')"
   ]
  },
  {
   "cell_type": "markdown",
   "id": "d3a64bcb",
   "metadata": {},
   "source": [
    "# 데이터 로드"
   ]
  },
  {
   "cell_type": "code",
   "execution_count": 256,
   "id": "8b906f14",
   "metadata": {},
   "outputs": [],
   "source": [
    "#기간별 SNS 데이터 로드 및 병합\n",
    "load_path = './'\n",
    "twitter_df1 = pd.read_excel(load_path + 'Analysis_SnsData_20190501_20210930_(청년정책)&&~(rt__독취사)_BY_ARGOS.xlsx', sheet_name = '트위터', skiprows = 1)\n",
    "twitter_df2 = pd.read_excel(load_path + 'Analysis_SnsData_20211001_20230626_(청년정책)&&~(rt__독취사)_BY_ARGOS.xlsx', sheet_name = '트위터', skiprows = 1)\n",
    "twitter_df = pd.concat([twitter_df1, twitter_df2], ignore_index = True)"
   ]
  },
  {
   "cell_type": "code",
   "execution_count": 257,
   "id": "1c2b2d10",
   "metadata": {},
   "outputs": [
    {
     "data": {
      "text/html": [
       "<div>\n",
       "<style scoped>\n",
       "    .dataframe tbody tr th:only-of-type {\n",
       "        vertical-align: middle;\n",
       "    }\n",
       "\n",
       "    .dataframe tbody tr th {\n",
       "        vertical-align: top;\n",
       "    }\n",
       "\n",
       "    .dataframe thead th {\n",
       "        text-align: right;\n",
       "    }\n",
       "</style>\n",
       "<table border=\"1\" class=\"dataframe\">\n",
       "  <thead>\n",
       "    <tr style=\"text-align: right;\">\n",
       "      <th></th>\n",
       "      <th>작성일</th>\n",
       "      <th>작성자</th>\n",
       "      <th>내용</th>\n",
       "    </tr>\n",
       "  </thead>\n",
       "  <tbody>\n",
       "    <tr>\n",
       "      <th>0</th>\n",
       "      <td>2020/09/16</td>\n",
       "      <td>BehonBot</td>\n",
       "      <td>[ 분야별·지역별 #청년정책 ]\\n\\n▶ 일자리·취업창업 청년정책 http://20...</td>\n",
       "    </tr>\n",
       "    <tr>\n",
       "      <th>1</th>\n",
       "      <td>2020/06/13</td>\n",
       "      <td>Fkvkdpffk</td>\n",
       "      <td>@Two36198438 @EjayKim1 신보라 청년정책조정위원히 합류반대\\n한다....</td>\n",
       "    </tr>\n",
       "    <tr>\n",
       "      <th>2</th>\n",
       "      <td>2020/06/13</td>\n",
       "      <td>NzCjqjiRnfwkZxc</td>\n",
       "      <td>@Two36198438 @jinyeongkim2000 신보라 청년정책조정위원히 합류...</td>\n",
       "    </tr>\n",
       "    <tr>\n",
       "      <th>3</th>\n",
       "      <td>2020/06/13</td>\n",
       "      <td>FQdFY39LoL7bY8O</td>\n",
       "      <td>@Two36198438 신보라 청년정책조정위원히 합류반대\\n한다.....정세균 비상...</td>\n",
       "    </tr>\n",
       "    <tr>\n",
       "      <th>4</th>\n",
       "      <td>2020/06/13</td>\n",
       "      <td>s17221</td>\n",
       "      <td>@Two36198438 신보라 청년정책조정위원히 합류반대\\n한다.....정세균 비상...</td>\n",
       "    </tr>\n",
       "    <tr>\n",
       "      <th>...</th>\n",
       "      <td>...</td>\n",
       "      <td>...</td>\n",
       "      <td>...</td>\n",
       "    </tr>\n",
       "    <tr>\n",
       "      <th>7549</th>\n",
       "      <td>2021/10/05</td>\n",
       "      <td>moefkorea</td>\n",
       "      <td>&lt;2022년도 예산안, 청년정책 톺아보기!&gt;\\n2022년 예산안이 공개되었습니다. ...</td>\n",
       "    </tr>\n",
       "    <tr>\n",
       "      <th>7550</th>\n",
       "      <td>2021/10/05</td>\n",
       "      <td>Korea_land</td>\n",
       "      <td>놓치면 완전 손해!\\n쳥넌 주거정책 다 모아봤-집!??\\n⠀\\n조건에 해당된다면\\n...</td>\n",
       "    </tr>\n",
       "    <tr>\n",
       "      <th>7551</th>\n",
       "      <td>2021/10/04</td>\n",
       "      <td>drewstar___</td>\n",
       "      <td>오늘 신문 요약/ 청년 없는 청년 정책, 달에서 벌어지는 미국/중국 우주패권 정책,...</td>\n",
       "    </tr>\n",
       "    <tr>\n",
       "      <th>7552</th>\n",
       "      <td>2021/10/01</td>\n",
       "      <td>BreakNewsCom</td>\n",
       "      <td>예천군, &amp;quot;청년이 공감하는 청년정책&amp;quot;을 위해 다양한 활동 펼친다....</td>\n",
       "    </tr>\n",
       "    <tr>\n",
       "      <th>7553</th>\n",
       "      <td>2021/10/01</td>\n",
       "      <td>noonday_demon</td>\n",
       "      <td>근데 저 블로그 구독해두면 청년정책 업데이트 알 수 있어서 좋음. 만 34세 미만이...</td>\n",
       "    </tr>\n",
       "  </tbody>\n",
       "</table>\n",
       "<p>7554 rows × 3 columns</p>\n",
       "</div>"
      ],
      "text/plain": [
       "             작성일              작성자  \\\n",
       "0     2020/09/16         BehonBot   \n",
       "1     2020/06/13        Fkvkdpffk   \n",
       "2     2020/06/13  NzCjqjiRnfwkZxc   \n",
       "3     2020/06/13  FQdFY39LoL7bY8O   \n",
       "4     2020/06/13           s17221   \n",
       "...          ...              ...   \n",
       "7549  2021/10/05        moefkorea   \n",
       "7550  2021/10/05       Korea_land   \n",
       "7551  2021/10/04      drewstar___   \n",
       "7552  2021/10/01     BreakNewsCom   \n",
       "7553  2021/10/01    noonday_demon   \n",
       "\n",
       "                                                     내용  \n",
       "0     [ 분야별·지역별 #청년정책 ]\\n\\n▶ 일자리·취업창업 청년정책 http://20...  \n",
       "1     @Two36198438 @EjayKim1 신보라 청년정책조정위원히 합류반대\\n한다....  \n",
       "2     @Two36198438 @jinyeongkim2000 신보라 청년정책조정위원히 합류...  \n",
       "3     @Two36198438 신보라 청년정책조정위원히 합류반대\\n한다.....정세균 비상...  \n",
       "4     @Two36198438 신보라 청년정책조정위원히 합류반대\\n한다.....정세균 비상...  \n",
       "...                                                 ...  \n",
       "7549  <2022년도 예산안, 청년정책 톺아보기!>\\n2022년 예산안이 공개되었습니다. ...  \n",
       "7550  놓치면 완전 손해!\\n쳥넌 주거정책 다 모아봤-집!??\\n⠀\\n조건에 해당된다면\\n...  \n",
       "7551  오늘 신문 요약/ 청년 없는 청년 정책, 달에서 벌어지는 미국/중국 우주패권 정책,...  \n",
       "7552  예천군, &quot;청년이 공감하는 청년정책&quot;을 위해 다양한 활동 펼친다....  \n",
       "7553  근데 저 블로그 구독해두면 청년정책 업데이트 알 수 있어서 좋음. 만 34세 미만이...  \n",
       "\n",
       "[7554 rows x 3 columns]"
      ]
     },
     "execution_count": 257,
     "metadata": {},
     "output_type": "execute_result"
    }
   ],
   "source": [
    "twitter_df"
   ]
  },
  {
   "cell_type": "markdown",
   "id": "077a33f9",
   "metadata": {},
   "source": [
    "# 전처리"
   ]
  },
  {
   "cell_type": "code",
   "execution_count": 258,
   "id": "6bbf93a3",
   "metadata": {},
   "outputs": [
    {
     "data": {
      "text/html": [
       "<div>\n",
       "<style scoped>\n",
       "    .dataframe tbody tr th:only-of-type {\n",
       "        vertical-align: middle;\n",
       "    }\n",
       "\n",
       "    .dataframe tbody tr th {\n",
       "        vertical-align: top;\n",
       "    }\n",
       "\n",
       "    .dataframe thead th {\n",
       "        text-align: right;\n",
       "    }\n",
       "</style>\n",
       "<table border=\"1\" class=\"dataframe\">\n",
       "  <thead>\n",
       "    <tr style=\"text-align: right;\">\n",
       "      <th></th>\n",
       "      <th>작성일</th>\n",
       "      <th>작성자</th>\n",
       "      <th>내용</th>\n",
       "    </tr>\n",
       "  </thead>\n",
       "  <tbody>\n",
       "    <tr>\n",
       "      <th>0</th>\n",
       "      <td>2020/06/13</td>\n",
       "      <td>Fkvkdpffk</td>\n",
       "      <td>@Two36198438 @EjayKim1 신보라 청년정책조정위원히 합류반대\\n한다....</td>\n",
       "    </tr>\n",
       "    <tr>\n",
       "      <th>1</th>\n",
       "      <td>2020/06/13</td>\n",
       "      <td>NzCjqjiRnfwkZxc</td>\n",
       "      <td>@Two36198438 @jinyeongkim2000 신보라 청년정책조정위원히 합류...</td>\n",
       "    </tr>\n",
       "    <tr>\n",
       "      <th>2</th>\n",
       "      <td>2020/06/13</td>\n",
       "      <td>FQdFY39LoL7bY8O</td>\n",
       "      <td>@Two36198438 신보라 청년정책조정위원히 합류반대\\n한다.....정세균 비상...</td>\n",
       "    </tr>\n",
       "    <tr>\n",
       "      <th>3</th>\n",
       "      <td>2020/06/12</td>\n",
       "      <td>Two36198438</td>\n",
       "      <td>신보라 청년정책조정위원히 합류반대\\n한다.....정세균 비상식적인 인간을\\n  어떻...</td>\n",
       "    </tr>\n",
       "    <tr>\n",
       "      <th>4</th>\n",
       "      <td>2021/09/15</td>\n",
       "      <td>union1030</td>\n",
       "      <td>청년유니온은 2012년 서울시와 사회적교섭으로, 2013년 청년일자리 정책협약을 맺...</td>\n",
       "    </tr>\n",
       "    <tr>\n",
       "      <th>...</th>\n",
       "      <td>...</td>\n",
       "      <td>...</td>\n",
       "      <td>...</td>\n",
       "    </tr>\n",
       "    <tr>\n",
       "      <th>2305</th>\n",
       "      <td>2021/10/10</td>\n",
       "      <td>disillusioneder</td>\n",
       "      <td>작년과 올해 20대 여성 자살자 비율이 폭발적으로 늘어났고(동세대 남자는 줄어듦) ...</td>\n",
       "    </tr>\n",
       "    <tr>\n",
       "      <th>2306</th>\n",
       "      <td>2021/10/09</td>\n",
       "      <td>dufwjddufwjd</td>\n",
       "      <td>@ace27567 @hhans9215 자기의 권한을 명확하게 법의 태두리 안에서 잘...</td>\n",
       "    </tr>\n",
       "    <tr>\n",
       "      <th>2307</th>\n",
       "      <td>2021/10/07</td>\n",
       "      <td>naloongsbaby</td>\n",
       "      <td>재인룽 감사룽,..,. 청년정책 마지막까지 잘 뽑아먹고 퇴장합니다…</td>\n",
       "    </tr>\n",
       "    <tr>\n",
       "      <th>2308</th>\n",
       "      <td>2021/10/04</td>\n",
       "      <td>drewstar___</td>\n",
       "      <td>오늘 신문 요약/ 청년 없는 청년 정책, 달에서 벌어지는 미국/중국 우주패권 정책,...</td>\n",
       "    </tr>\n",
       "    <tr>\n",
       "      <th>2309</th>\n",
       "      <td>2021/10/01</td>\n",
       "      <td>noonday_demon</td>\n",
       "      <td>근데 저 블로그 구독해두면 청년정책 업데이트 알 수 있어서 좋음. 만 34세 미만이...</td>\n",
       "    </tr>\n",
       "  </tbody>\n",
       "</table>\n",
       "<p>2310 rows × 3 columns</p>\n",
       "</div>"
      ],
      "text/plain": [
       "             작성일              작성자  \\\n",
       "0     2020/06/13        Fkvkdpffk   \n",
       "1     2020/06/13  NzCjqjiRnfwkZxc   \n",
       "2     2020/06/13  FQdFY39LoL7bY8O   \n",
       "3     2020/06/12      Two36198438   \n",
       "4     2021/09/15        union1030   \n",
       "...          ...              ...   \n",
       "2305  2021/10/10  disillusioneder   \n",
       "2306  2021/10/09     dufwjddufwjd   \n",
       "2307  2021/10/07     naloongsbaby   \n",
       "2308  2021/10/04      drewstar___   \n",
       "2309  2021/10/01    noonday_demon   \n",
       "\n",
       "                                                     내용  \n",
       "0     @Two36198438 @EjayKim1 신보라 청년정책조정위원히 합류반대\\n한다....  \n",
       "1     @Two36198438 @jinyeongkim2000 신보라 청년정책조정위원히 합류...  \n",
       "2     @Two36198438 신보라 청년정책조정위원히 합류반대\\n한다.....정세균 비상...  \n",
       "3     신보라 청년정책조정위원히 합류반대\\n한다.....정세균 비상식적인 인간을\\n  어떻...  \n",
       "4     청년유니온은 2012년 서울시와 사회적교섭으로, 2013년 청년일자리 정책협약을 맺...  \n",
       "...                                                 ...  \n",
       "2305  작년과 올해 20대 여성 자살자 비율이 폭발적으로 늘어났고(동세대 남자는 줄어듦) ...  \n",
       "2306  @ace27567 @hhans9215 자기의 권한을 명확하게 법의 태두리 안에서 잘...  \n",
       "2307              재인룽 감사룽,..,. 청년정책 마지막까지 잘 뽑아먹고 퇴장합니다…  \n",
       "2308  오늘 신문 요약/ 청년 없는 청년 정책, 달에서 벌어지는 미국/중국 우주패권 정책,...  \n",
       "2309  근데 저 블로그 구독해두면 청년정책 업데이트 알 수 있어서 좋음. 만 34세 미만이...  \n",
       "\n",
       "[2310 rows x 3 columns]"
      ]
     },
     "execution_count": 258,
     "metadata": {},
     "output_type": "execute_result"
    }
   ],
   "source": [
    "#내용에 링크나 사진을 포함하는 게시물들 제거하기 (기사나 광고성 게시물들 제거)\n",
    "twitter_df_n = twitter_df[~twitter_df['내용'].str.contains('http')].reset_index(drop = True)\n",
    "twitter_df_n.drop_duplicates(subset = '내용', inplace = True, ignore_index = True)\n",
    "twitter_df_n"
   ]
  },
  {
   "cell_type": "code",
   "execution_count": 259,
   "id": "73596ae0",
   "metadata": {},
   "outputs": [],
   "source": [
    "#전처리 함수\n",
    "\n",
    "def clean_str(text, special = False):\n",
    "    # 리트윗 제거\n",
    "    pattern = 'RT @[\\w_]+: '\n",
    "    text = re.sub(pattern=pattern, repl='', string=text)\n",
    "    # 타계정 멘션 제거\n",
    "    pattern = '@[\\w_]+'\n",
    "    text = re.sub(pattern=pattern, repl='', string=text)\n",
    "    # 해시태그 제거 \n",
    "    pattern = '#'\n",
    "    text = re.sub(pattern=pattern, repl='', string=text)\n",
    "    # E-mail 제거\n",
    "    pattern = '([a-zA-Z0-9_.+-]+@[a-zA-Z0-9-]+\\.[a-zA-Z0-9-.]+)'\n",
    "    text = re.sub(pattern=pattern, repl='', string=text)\n",
    "    # URL 제거 \n",
    "    pattern = '(http|ftp|https)://(?:[-\\w.]|(?:%[\\da-fA-F]{2}))+'\n",
    "    text = re.sub(pattern=pattern, repl='', string=text)\n",
    "    #. ? ! 등의 반복 제거\n",
    "    pattern = r'\\.+'\n",
    "    text = re.sub(pattern=pattern, repl='.', string=text)\n",
    "    pattern = r'\\?+'\n",
    "    text = re.sub(pattern=pattern, repl='?', string=text)\n",
    "    pattern = r'\\!+'\n",
    "    text = re.sub(pattern=pattern, repl='!', string=text)\n",
    "    pattern = r'\\!~'\n",
    "    text = re.sub(pattern=pattern, repl='~', string=text)\n",
    "    pattern = r'\\!,'\n",
    "    text = re.sub(pattern=pattern, repl=',', string=text)\n",
    "    # 한글 자음, 모음 제거\n",
    "    pattern = '([ㄱ-ㅎㅏ-ㅣ]+)'\n",
    "    text = re.sub(pattern=pattern, repl='', string=text)\n",
    "    # HTML 태그 제거\n",
    "    pattern = '<[^>]*>'        \n",
    "    text = re.sub(pattern=pattern, repl='', string=text)\n",
    "    # 특수기호 제거\n",
    "    if special:\n",
    "        pattern = '[^\\w\\s\\n]'\n",
    "        text = re.sub(pattern=pattern, repl='', string=text)\n",
    "\n",
    "        text = re.sub('[-=+,#/\\?:^$.@*\\\"※~&%ㆍ!』\\\\‘|\\(\\)\\[\\]\\<\\>`\\'…》]','', string=text)\n",
    "#         text = re.sub('\\n', '.', string=text)\n",
    "    return text.strip()"
   ]
  },
  {
   "cell_type": "code",
   "execution_count": 260,
   "id": "b814b120",
   "metadata": {},
   "outputs": [],
   "source": [
    "# 문장 단위 semantic을 기준으로 임베딩할 것이므로 \\n \\t 등을 모두 공백으로 처리\n",
    "pattern_whitespace = re.compile(f'[{whitespace}]+')\n",
    "\n",
    "# 기사 본문 공백 처리\n",
    "twitter_df_n['내용_n1'] = twitter_df_n['내용'].str.replace(pattern_whitespace, ' ')\n",
    "twitter_df_n['내용_n1'] = twitter_df_n['내용_n1'].apply(lambda x : unicodedata.normalize('NFC', x)).str.strip()"
   ]
  },
  {
   "cell_type": "code",
   "execution_count": 261,
   "id": "6661c806",
   "metadata": {},
   "outputs": [
    {
     "name": "stderr",
     "output_type": "stream",
     "text": [
      "100%|██████████████████████████████████████| 2310/2310 [00:05<00:00, 430.25it/s]\n"
     ]
    }
   ],
   "source": [
    "#version1 : 1) sns 데이터 전처리, 2) 문장 분리\n",
    "\n",
    "#전처리\n",
    "twitter_df_n['내용_n1'] = twitter_df_n['내용_n1'].apply(lambda x : clean_str(x,special = False))\n",
    "\n",
    "#문장 분리\n",
    "twitter_df_n['내용_n1'] = twitter_df_n['내용_n1'].progress_apply(lambda x: split_sentences(x))"
   ]
  },
  {
   "cell_type": "code",
   "execution_count": 262,
   "id": "743533d1",
   "metadata": {},
   "outputs": [],
   "source": [
    "#version2 : 1) sns 데이터 전처리, 2) 문장 분리, 3)분리된 문장의 특수 문자 제거\n",
    "\n",
    "#문장 분리 후 특수 문자 완전 제거\n",
    "twitter_df_n['내용_n2'] = twitter_df_n['내용_n1'].apply(lambda x : [clean_str(sent,special = True) for sent in x])"
   ]
  },
  {
   "cell_type": "markdown",
   "id": "f43d3b06",
   "metadata": {},
   "source": [
    "# 전처리 결과 저장"
   ]
  },
  {
   "cell_type": "code",
   "execution_count": 263,
   "id": "e7ce0060",
   "metadata": {},
   "outputs": [],
   "source": [
    "store_path = './'\n",
    "twitter_df_n.to_excel(store_path + '청년정책_twitter_preprocessed_v0.1.xlsx')"
   ]
  }
 ],
 "metadata": {
  "kernelspec": {
   "display_name": "Python 3 (ipykernel)",
   "language": "python",
   "name": "python3"
  },
  "language_info": {
   "codemirror_mode": {
    "name": "ipython",
    "version": 3
   },
   "file_extension": ".py",
   "mimetype": "text/x-python",
   "name": "python",
   "nbconvert_exporter": "python",
   "pygments_lexer": "ipython3",
   "version": "3.9.12"
  }
 },
 "nbformat": 4,
 "nbformat_minor": 5
}
